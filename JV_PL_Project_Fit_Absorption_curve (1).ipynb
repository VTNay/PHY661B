{
  "cells": [
    {
      "cell_type": "markdown",
      "source": [
        "# **Fit Absorption models to the experimental curve**"
      ],
      "metadata": {
        "id": "KtvD7SeyyuCM"
      }
    },
    {
      "cell_type": "code",
      "execution_count": 41,
      "metadata": {
        "id": "D2V654p1Fkoy"
      },
      "outputs": [],
      "source": [
        "import numpy as np\n",
        "import pandas as pd\n",
        "import matplotlib.pyplot as plt\n",
        "from scipy.optimize import curve_fit\n",
        "# Read measured data\n",
        "pl_meas = pd.read_csv('/content/JC18-02_aging_65C_85RH_43.txt', delimiter='\t', decimal=',', header=None, skiprows=5, usecols=[0,2], names=['lambda','counts'])\n",
        "lambda_thresh = 850\n",
        "# Take lamda range from 650 to 850\n",
        "pl_meas = pl_meas[(pl_meas['lambda'] <= 850) & (pl_meas['lambda'] >= 650)]"
      ]
    },
    {
      "cell_type": "code",
      "execution_count": 42,
      "metadata": {
        "id": "oGpKof8BOgHf",
        "colab": {
          "base_uri": "https://localhost:8080/",
          "height": 951
        },
        "outputId": "fcb6b01e-67ee-4787-b474-711958d40c82"
      },
      "outputs": [
        {
          "output_type": "stream",
          "name": "stdout",
          "text": [
            "Lamda peak: 763.421936 (nm)\n",
            "Energy peak: 1.6242656145002363 (eV)\n"
          ]
        },
        {
          "output_type": "execute_result",
          "data": {
            "text/plain": [
              "          lambda  counts         E\n",
              "375   650.107605   560.0  1.907377\n",
              "376   650.383362   560.0  1.906568\n",
              "377   650.658997   551.0  1.905760\n",
              "378   650.934692   550.0  1.904953\n",
              "379   651.210388   561.0  1.904147\n",
              "...          ...     ...       ...\n",
              "1122  848.753357   903.0  1.460966\n",
              "1123  849.008728   870.0  1.460527\n",
              "1124  849.263855   888.0  1.460088\n",
              "1125  849.519043   873.0  1.459649\n",
              "1126  849.774292   883.0  1.459211\n",
              "\n",
              "[752 rows x 3 columns]"
            ],
            "text/html": [
              "\n",
              "  <div id=\"df-3192fcec-3ff1-4ecf-901c-b75d20fdcf23\" class=\"colab-df-container\">\n",
              "    <div>\n",
              "<style scoped>\n",
              "    .dataframe tbody tr th:only-of-type {\n",
              "        vertical-align: middle;\n",
              "    }\n",
              "\n",
              "    .dataframe tbody tr th {\n",
              "        vertical-align: top;\n",
              "    }\n",
              "\n",
              "    .dataframe thead th {\n",
              "        text-align: right;\n",
              "    }\n",
              "</style>\n",
              "<table border=\"1\" class=\"dataframe\">\n",
              "  <thead>\n",
              "    <tr style=\"text-align: right;\">\n",
              "      <th></th>\n",
              "      <th>lambda</th>\n",
              "      <th>counts</th>\n",
              "      <th>E</th>\n",
              "    </tr>\n",
              "  </thead>\n",
              "  <tbody>\n",
              "    <tr>\n",
              "      <th>375</th>\n",
              "      <td>650.107605</td>\n",
              "      <td>560.0</td>\n",
              "      <td>1.907377</td>\n",
              "    </tr>\n",
              "    <tr>\n",
              "      <th>376</th>\n",
              "      <td>650.383362</td>\n",
              "      <td>560.0</td>\n",
              "      <td>1.906568</td>\n",
              "    </tr>\n",
              "    <tr>\n",
              "      <th>377</th>\n",
              "      <td>650.658997</td>\n",
              "      <td>551.0</td>\n",
              "      <td>1.905760</td>\n",
              "    </tr>\n",
              "    <tr>\n",
              "      <th>378</th>\n",
              "      <td>650.934692</td>\n",
              "      <td>550.0</td>\n",
              "      <td>1.904953</td>\n",
              "    </tr>\n",
              "    <tr>\n",
              "      <th>379</th>\n",
              "      <td>651.210388</td>\n",
              "      <td>561.0</td>\n",
              "      <td>1.904147</td>\n",
              "    </tr>\n",
              "    <tr>\n",
              "      <th>...</th>\n",
              "      <td>...</td>\n",
              "      <td>...</td>\n",
              "      <td>...</td>\n",
              "    </tr>\n",
              "    <tr>\n",
              "      <th>1122</th>\n",
              "      <td>848.753357</td>\n",
              "      <td>903.0</td>\n",
              "      <td>1.460966</td>\n",
              "    </tr>\n",
              "    <tr>\n",
              "      <th>1123</th>\n",
              "      <td>849.008728</td>\n",
              "      <td>870.0</td>\n",
              "      <td>1.460527</td>\n",
              "    </tr>\n",
              "    <tr>\n",
              "      <th>1124</th>\n",
              "      <td>849.263855</td>\n",
              "      <td>888.0</td>\n",
              "      <td>1.460088</td>\n",
              "    </tr>\n",
              "    <tr>\n",
              "      <th>1125</th>\n",
              "      <td>849.519043</td>\n",
              "      <td>873.0</td>\n",
              "      <td>1.459649</td>\n",
              "    </tr>\n",
              "    <tr>\n",
              "      <th>1126</th>\n",
              "      <td>849.774292</td>\n",
              "      <td>883.0</td>\n",
              "      <td>1.459211</td>\n",
              "    </tr>\n",
              "  </tbody>\n",
              "</table>\n",
              "<p>752 rows × 3 columns</p>\n",
              "</div>\n",
              "    <div class=\"colab-df-buttons\">\n",
              "\n",
              "  <div class=\"colab-df-container\">\n",
              "    <button class=\"colab-df-convert\" onclick=\"convertToInteractive('df-3192fcec-3ff1-4ecf-901c-b75d20fdcf23')\"\n",
              "            title=\"Convert this dataframe to an interactive table.\"\n",
              "            style=\"display:none;\">\n",
              "\n",
              "  <svg xmlns=\"http://www.w3.org/2000/svg\" height=\"24px\" viewBox=\"0 -960 960 960\">\n",
              "    <path d=\"M120-120v-720h720v720H120Zm60-500h600v-160H180v160Zm220 220h160v-160H400v160Zm0 220h160v-160H400v160ZM180-400h160v-160H180v160Zm440 0h160v-160H620v160ZM180-180h160v-160H180v160Zm440 0h160v-160H620v160Z\"/>\n",
              "  </svg>\n",
              "    </button>\n",
              "\n",
              "  <style>\n",
              "    .colab-df-container {\n",
              "      display:flex;\n",
              "      gap: 12px;\n",
              "    }\n",
              "\n",
              "    .colab-df-convert {\n",
              "      background-color: #E8F0FE;\n",
              "      border: none;\n",
              "      border-radius: 50%;\n",
              "      cursor: pointer;\n",
              "      display: none;\n",
              "      fill: #1967D2;\n",
              "      height: 32px;\n",
              "      padding: 0 0 0 0;\n",
              "      width: 32px;\n",
              "    }\n",
              "\n",
              "    .colab-df-convert:hover {\n",
              "      background-color: #E2EBFA;\n",
              "      box-shadow: 0px 1px 2px rgba(60, 64, 67, 0.3), 0px 1px 3px 1px rgba(60, 64, 67, 0.15);\n",
              "      fill: #174EA6;\n",
              "    }\n",
              "\n",
              "    .colab-df-buttons div {\n",
              "      margin-bottom: 4px;\n",
              "    }\n",
              "\n",
              "    [theme=dark] .colab-df-convert {\n",
              "      background-color: #3B4455;\n",
              "      fill: #D2E3FC;\n",
              "    }\n",
              "\n",
              "    [theme=dark] .colab-df-convert:hover {\n",
              "      background-color: #434B5C;\n",
              "      box-shadow: 0px 1px 3px 1px rgba(0, 0, 0, 0.15);\n",
              "      filter: drop-shadow(0px 1px 2px rgba(0, 0, 0, 0.3));\n",
              "      fill: #FFFFFF;\n",
              "    }\n",
              "  </style>\n",
              "\n",
              "    <script>\n",
              "      const buttonEl =\n",
              "        document.querySelector('#df-3192fcec-3ff1-4ecf-901c-b75d20fdcf23 button.colab-df-convert');\n",
              "      buttonEl.style.display =\n",
              "        google.colab.kernel.accessAllowed ? 'block' : 'none';\n",
              "\n",
              "      async function convertToInteractive(key) {\n",
              "        const element = document.querySelector('#df-3192fcec-3ff1-4ecf-901c-b75d20fdcf23');\n",
              "        const dataTable =\n",
              "          await google.colab.kernel.invokeFunction('convertToInteractive',\n",
              "                                                    [key], {});\n",
              "        if (!dataTable) return;\n",
              "\n",
              "        const docLinkHtml = 'Like what you see? Visit the ' +\n",
              "          '<a target=\"_blank\" href=https://colab.research.google.com/notebooks/data_table.ipynb>data table notebook</a>'\n",
              "          + ' to learn more about interactive tables.';\n",
              "        element.innerHTML = '';\n",
              "        dataTable['output_type'] = 'display_data';\n",
              "        await google.colab.output.renderOutput(dataTable, element);\n",
              "        const docLink = document.createElement('div');\n",
              "        docLink.innerHTML = docLinkHtml;\n",
              "        element.appendChild(docLink);\n",
              "      }\n",
              "    </script>\n",
              "  </div>\n",
              "\n",
              "\n",
              "<div id=\"df-b5ea3fc6-fda0-4bba-b7f2-21c5651a069e\">\n",
              "  <button class=\"colab-df-quickchart\" onclick=\"quickchart('df-b5ea3fc6-fda0-4bba-b7f2-21c5651a069e')\"\n",
              "            title=\"Suggest charts\"\n",
              "            style=\"display:none;\">\n",
              "\n",
              "<svg xmlns=\"http://www.w3.org/2000/svg\" height=\"24px\"viewBox=\"0 0 24 24\"\n",
              "     width=\"24px\">\n",
              "    <g>\n",
              "        <path d=\"M19 3H5c-1.1 0-2 .9-2 2v14c0 1.1.9 2 2 2h14c1.1 0 2-.9 2-2V5c0-1.1-.9-2-2-2zM9 17H7v-7h2v7zm4 0h-2V7h2v10zm4 0h-2v-4h2v4z\"/>\n",
              "    </g>\n",
              "</svg>\n",
              "  </button>\n",
              "\n",
              "<style>\n",
              "  .colab-df-quickchart {\n",
              "      --bg-color: #E8F0FE;\n",
              "      --fill-color: #1967D2;\n",
              "      --hover-bg-color: #E2EBFA;\n",
              "      --hover-fill-color: #174EA6;\n",
              "      --disabled-fill-color: #AAA;\n",
              "      --disabled-bg-color: #DDD;\n",
              "  }\n",
              "\n",
              "  [theme=dark] .colab-df-quickchart {\n",
              "      --bg-color: #3B4455;\n",
              "      --fill-color: #D2E3FC;\n",
              "      --hover-bg-color: #434B5C;\n",
              "      --hover-fill-color: #FFFFFF;\n",
              "      --disabled-bg-color: #3B4455;\n",
              "      --disabled-fill-color: #666;\n",
              "  }\n",
              "\n",
              "  .colab-df-quickchart {\n",
              "    background-color: var(--bg-color);\n",
              "    border: none;\n",
              "    border-radius: 50%;\n",
              "    cursor: pointer;\n",
              "    display: none;\n",
              "    fill: var(--fill-color);\n",
              "    height: 32px;\n",
              "    padding: 0;\n",
              "    width: 32px;\n",
              "  }\n",
              "\n",
              "  .colab-df-quickchart:hover {\n",
              "    background-color: var(--hover-bg-color);\n",
              "    box-shadow: 0 1px 2px rgba(60, 64, 67, 0.3), 0 1px 3px 1px rgba(60, 64, 67, 0.15);\n",
              "    fill: var(--button-hover-fill-color);\n",
              "  }\n",
              "\n",
              "  .colab-df-quickchart-complete:disabled,\n",
              "  .colab-df-quickchart-complete:disabled:hover {\n",
              "    background-color: var(--disabled-bg-color);\n",
              "    fill: var(--disabled-fill-color);\n",
              "    box-shadow: none;\n",
              "  }\n",
              "\n",
              "  .colab-df-spinner {\n",
              "    border: 2px solid var(--fill-color);\n",
              "    border-color: transparent;\n",
              "    border-bottom-color: var(--fill-color);\n",
              "    animation:\n",
              "      spin 1s steps(1) infinite;\n",
              "  }\n",
              "\n",
              "  @keyframes spin {\n",
              "    0% {\n",
              "      border-color: transparent;\n",
              "      border-bottom-color: var(--fill-color);\n",
              "      border-left-color: var(--fill-color);\n",
              "    }\n",
              "    20% {\n",
              "      border-color: transparent;\n",
              "      border-left-color: var(--fill-color);\n",
              "      border-top-color: var(--fill-color);\n",
              "    }\n",
              "    30% {\n",
              "      border-color: transparent;\n",
              "      border-left-color: var(--fill-color);\n",
              "      border-top-color: var(--fill-color);\n",
              "      border-right-color: var(--fill-color);\n",
              "    }\n",
              "    40% {\n",
              "      border-color: transparent;\n",
              "      border-right-color: var(--fill-color);\n",
              "      border-top-color: var(--fill-color);\n",
              "    }\n",
              "    60% {\n",
              "      border-color: transparent;\n",
              "      border-right-color: var(--fill-color);\n",
              "    }\n",
              "    80% {\n",
              "      border-color: transparent;\n",
              "      border-right-color: var(--fill-color);\n",
              "      border-bottom-color: var(--fill-color);\n",
              "    }\n",
              "    90% {\n",
              "      border-color: transparent;\n",
              "      border-bottom-color: var(--fill-color);\n",
              "    }\n",
              "  }\n",
              "</style>\n",
              "\n",
              "  <script>\n",
              "    async function quickchart(key) {\n",
              "      const quickchartButtonEl =\n",
              "        document.querySelector('#' + key + ' button');\n",
              "      quickchartButtonEl.disabled = true;  // To prevent multiple clicks.\n",
              "      quickchartButtonEl.classList.add('colab-df-spinner');\n",
              "      try {\n",
              "        const charts = await google.colab.kernel.invokeFunction(\n",
              "            'suggestCharts', [key], {});\n",
              "      } catch (error) {\n",
              "        console.error('Error during call to suggestCharts:', error);\n",
              "      }\n",
              "      quickchartButtonEl.classList.remove('colab-df-spinner');\n",
              "      quickchartButtonEl.classList.add('colab-df-quickchart-complete');\n",
              "    }\n",
              "    (() => {\n",
              "      let quickchartButtonEl =\n",
              "        document.querySelector('#df-b5ea3fc6-fda0-4bba-b7f2-21c5651a069e button');\n",
              "      quickchartButtonEl.style.display =\n",
              "        google.colab.kernel.accessAllowed ? 'block' : 'none';\n",
              "    })();\n",
              "  </script>\n",
              "</div>\n",
              "    </div>\n",
              "  </div>\n"
            ]
          },
          "metadata": {},
          "execution_count": 42
        },
        {
          "output_type": "display_data",
          "data": {
            "text/plain": [
              "<Figure size 640x480 with 1 Axes>"
            ],
            "image/png": "[encoded data removed]"
          },
          "metadata": {}
        }
      ],
      "source": [
        "# Compare meas vs sim PL\n",
        "fig, ax = plt.subplots(constrained_layout=True)\n",
        "ax.plot(pl_meas['lambda'], pl_meas['counts'], '-o', label='Measured', c='black')\n",
        "# ax_.plot(Abs['lambda'], Abs['PL'], '-o', label='Simulated')\n",
        "ax.set_xlabel('λ (nm)')\n",
        "fig.suptitle('Counts')\n",
        "ax.set_xlim(650, 850)\n",
        "ax.legend(loc='upper left')\n",
        "pl_meas['E'] = 1240/pl_meas['lambda']\n",
        "max_value_index = pl_meas['counts'].idxmax()\n",
        "lambda_at_max_counts = pl_meas.loc[max_value_index, 'lambda']\n",
        "energy_at_max_counts = pl_meas.loc[max_value_index, 'E']\n",
        "print(\"Lamda peak:\", lambda_at_max_counts, \"(nm)\")\n",
        "print(\"Energy peak:\", energy_at_max_counts, \"(eV)\")\n",
        "pl_meas"
      ]
    },
    {
      "cell_type": "markdown",
      "source": [
        "## Katahara model"
      ],
      "metadata": {
        "id": "xJH6yMKQ4eXa"
      }
    },
    {
      "cell_type": "markdown",
      "source": [
        "$$G(E) = \\frac{1}{\\gamma 2\\Gamma (1 + \\frac{1}{\\theta})} \\int_{-\\infty}^{\\infty (E-E_1)} \\left( \\exp\\left(-\\left|\\frac{u}{\\gamma}\\right|^{\\theta}\\right) \\sqrt{E - E_1 - u} \\right) du.$$\n",
        "$$a(E) = 1 - \\exp(-\\alpha_0 d * G(E)).$$\n",
        "$$I_{PL}(E) = \\frac{2\\pi A}{h^3c^2} \\frac{E^2 a(E)}{\\exp\\left(\\frac{E - \\Delta\\mu}{kT}\\right) - 1} = \\frac{2\\pi A}{h^3c^2} \\frac{E^2 [1 - \\exp(-\\alpha_0 d * G(E))]}{\\exp\\left(\\frac{E - \\Delta\\mu}{kT}\\right) - 1}$$"
      ],
      "metadata": {
        "id": "Y-H3xzNj8gpu"
      }
    },
    {
      "cell_type": "code",
      "source": [
        "from scipy.integrate import quad\n",
        "from scipy.special import gamma as gamma_function\n",
        "import numpy as np\n",
        "from scipy.constants import h, c, k\n",
        "# Constants\n",
        "h = 6.62607015e-34  # Planck constant (J s)\n",
        "c = 2.99792458e8    # Speed of light (m/s)\n",
        "k = 1.380649e-23    # Boltzmann constant (J/K)\n",
        "\n",
        "# Photocurrent equation\n",
        "def photocurrent2(E, A, alpha_0d, theta, gamma, E1, Delta_mu):\n",
        "    # Temperature = 65°C\n",
        "    T = 273.15 + 65\n",
        "    eV_to_J = 1.60218e-19  # 1 eV = 1.60218e-19 J\n",
        "    # Convert energies from eV to Joules\n",
        "    E = E * eV_to_J\n",
        "    E1 = E1 * eV_to_J\n",
        "    Delta_mu = Delta_mu * eV_to_J\n",
        "    gamma = gamma * eV_to_J\n",
        "\n",
        "    # Define the model function G(E)\n",
        "    def G(E, theta, gamma, E1):\n",
        "        # Define the integrand\n",
        "        def integrand(u, E, theta, gamma, E1):\n",
        "            if E - E1 - u > 0:\n",
        "                return np.exp(-np.abs(u / gamma)**theta) * np.sqrt(E - E1 - u)\n",
        "            else:\n",
        "                return 0\n",
        "\n",
        "        # Initialize the result array\n",
        "        results = np.zeros_like(E)\n",
        "\n",
        "        # Iterate over all E values\n",
        "        for i, E_val in enumerate(np.atleast_1d(E)):\n",
        "            # Perform the numerical integration for each E value\n",
        "            integral, _ = quad(integrand, -np.inf, E_val-E1, args=(E_val, theta, gamma, E1))\n",
        "            constant = 1 / (gamma *2* gamma_function(1 + 1/theta))\n",
        "            results[i] = constant*integral\n",
        "\n",
        "        # If E was a scalar, return a scalar result; otherwise, return the array\n",
        "        if np.isscalar(E):\n",
        "            return results[0]\n",
        "        else:\n",
        "            return results\n",
        "\n",
        "    # Absorption a(E)\n",
        "    a_E = 1 - np.exp(-alpha_0d * G(E, theta, gamma, E1))\n",
        "\n",
        "    # Photocurrent I_PL(E)\n",
        "    I_PL = (2 * np.pi * A *a_E* E**2 ) / ((h**3 * c**2) * (np.exp((E - Delta_mu) / (k * T)) - 1))\n",
        "\n",
        "    return I_PL\n"
      ],
      "metadata": {
        "id": "jzxnIFB7_SPv"
      },
      "execution_count": null,
      "outputs": []
    },
    {
      "cell_type": "code",
      "source": [
        "from scipy.optimize import curve_fit\n",
        "# Convert pandas Series to numpy arrays\n",
        "E_values = pl_meas['E'].values\n",
        "lambda_values = pl_meas['lambda'].values\n",
        "count_values = pl_meas['counts'].values\n",
        "#photocurrent2(E, A, alpha_0d, theta, gamma, E1, Delta_mu):\n",
        "ini = [2000000,30,1,0.050,1.5,1.1]\n",
        "# Fit the model to the data\n",
        "popt, pcov = curve_fit(I_PL, E_values, count_values, p0=ini)\n",
        "popt"
      ],
      "metadata": {
        "id": "Q38Od8RT_n5s",
        "colab": {
          "base_uri": "https://localhost:8080/"
        },
        "outputId": "eaa22589-9e3b-426e-89a1-efeacc415fb7"
      },
      "execution_count": null,
      "outputs": [
        {
          "output_type": "stream",
          "name": "stderr",
          "text": [
            "/usr/local/lib/python3.10/dist-packages/scipy/optimize/_minpack_py.py:1010: OptimizeWarning: Covariance of the parameters could not be estimated\n",
            "  warnings.warn('Covariance of the parameters could not be estimated',\n"
          ]
        },
        {
          "output_type": "execute_result",
          "data": {
            "text/plain": [
              "array([2.0e+06, 3.0e+01, 1.0e+00, 5.0e-02, 1.5e+00, 1.1e+00])"
            ]
          },
          "metadata": {},
          "execution_count": 4
        }
      ]
    },
    {
      "cell_type": "code",
      "source": [
        "ini = [2e34,30,1,0.050,1.5,0.0001]\n",
        "# Generate fitted curve\n",
        "E_fit = np.linspace(1,1.5, 2)\n",
        "#counts_fit = G(E_fit, *popt)\n",
        "counts_fit = photocurrent2(E_fit, *list(ini))\n",
        "\n",
        "# Plot the measured data\n",
        "plt.figure(figsize=(10, 5))\n",
        "# plt.scatter(pl_meas['E'], pl_meas['counts'], label='Measured data', color='blue')\n",
        "\n",
        "# Plot the fitted curve\n",
        "plt.plot(E_fit, counts_fit, label='Fitted curve', color='red')\n",
        "\n",
        "# Label the axes and add a legend\n",
        "plt.xlabel('Energy (eV)')\n",
        "plt.ylabel('Counts')\n",
        "plt.legend()\n",
        "plt.title('PL Measurement with Fitted Curve')\n",
        "plt.show()"
      ],
      "metadata": {
        "colab": {
          "base_uri": "https://localhost:8080/",
          "height": 487
        },
        "id": "7582yhDuuDMR",
        "outputId": "22cde4e2-f4e5-46d3-930e-08d0e20db668"
      },
      "execution_count": null,
      "outputs": [
        {
          "output_type": "display_data",
          "data": {
            "text/plain": [
              "<Figure size 1000x500 with 1 Axes>"
            ],
            "image/png": "[encoded data removed]"
          },
          "metadata": {}
        }
      ]
    },
    {
      "cell_type": "code",
      "source": [
        "print(counts_fit)"
      ],
      "metadata": {
        "colab": {
          "base_uri": "https://localhost:8080/"
        },
        "id": "u-rUJs0pRKBp",
        "outputId": "7c281e51-8f2a-419d-cffc-651a04180b99"
      },
      "execution_count": null,
      "outputs": [
        {
          "output_type": "stream",
          "name": "stdout",
          "text": [
            "[0. 0.]\n"
          ]
        }
      ]
    },
    {
      "cell_type": "markdown",
      "source": [
        "$$I_{PL}(E) = \\frac{2\\pi A}{h^3c^2} \\frac{E^2 a(E)}{\\exp\\left(\\frac{E - \\Delta\\mu}{kT}\\right) - 1} = B{E^2 [1 - \\exp(-\\alpha_0 d * G(E))]}\\exp\\left(\\frac{-E}{kT}\\right) $$"
      ],
      "metadata": {
        "id": "FjdXZ5OJnTw2"
      }
    },
    {
      "cell_type": "code",
      "source": [
        " E_fit = np.linspace(0.8, 1.4, 200)\n",
        " def G(E, theta, gamma, E1):\n",
        "        # Define the integrand\n",
        "        def integrand(u, E, theta, gamma, E1):\n",
        "            if E - E1 - u > 0:\n",
        "                return np.exp(-np.abs(u / gamma)**theta) * np.sqrt(E - E1 - u)\n",
        "            else:\n",
        "                return 0\n",
        "\n",
        "        # Initialize the result array\n",
        "        results = np.zeros_like(E)\n",
        "\n",
        "        # Iterate over all E values\n",
        "        for i, E_val in enumerate(np.atleast_1d(E)):\n",
        "            # Perform the numerical integration for each E value\n",
        "            integral, _ = quad(integrand, -np.inf, E_val-E1, args=(E_val, theta, gamma, E1))\n",
        "            constant = 1 / (gamma *2* gamma_function(1 + 1/theta))\n",
        "            results[i] = constant*integral\n",
        "\n",
        "        # If E was a scalar, return a scalar result; otherwise, return the array\n",
        "        if np.isscalar(E):\n",
        "            return results[0]\n",
        "        else:\n",
        "            return results\n",
        "def a(E,alpha0d, theta, gamma, E1):\n",
        "  return 1 - np.exp(-alpha0d * G(E, theta, gamma, E1))\n",
        "def I_PL(E,B,alpha0d, theta, gamma, E1):\n",
        "      T = 273.15 + 65\n",
        "      k = 1.380649e-23    # Boltzmann constant (J/K)\n",
        "      eV_to_J = 1.60218e-19  # 1 eV = 1.60218e-19 J\n",
        "      # Convert energies from eV to Joules\n",
        "      return B*(E*eV_to_J)**2*np.exp((-E*eV_to_J) / (k * T))*a(E,alpha0d, theta, gamma, E1)\n"
      ],
      "metadata": {
        "id": "Pc-_4pOiv-Ch"
      },
      "execution_count": 39,
      "outputs": []
    },
    {
      "cell_type": "code",
      "source": [
        "E_fit = np.linspace(0.2, 4, 200)\n",
        "#Plot a\n",
        "plt.plot(E_fit,I_PL(E_fit,2.78947413e+43,50, 2, 10,20.1),label = '1')\n",
        "plt.legend()\n",
        "plt.ylabel(\"I_PL\")"
      ],
      "metadata": {
        "colab": {
          "base_uri": "https://localhost:8080/",
          "height": 452
        },
        "id": "a81ozrcCTELd",
        "outputId": "84902b06-95f1-4973-c074-58f1cda98f4d"
      },
      "execution_count": 81,
      "outputs": [
        {
          "output_type": "execute_result",
          "data": {
            "text/plain": [
              "Text(0, 0.5, 'I_PL')"
            ]
          },
          "metadata": {},
          "execution_count": 81
        },
        {
          "output_type": "display_data",
          "data": {
            "text/plain": [
              "<Figure size 640x480 with 1 Axes>"
            ],
            "image/png": "[encoded data removed]"
          },
          "metadata": {}
        }
      ]
    },
    {
      "cell_type": "code",
      "source": [
        "from scipy.optimize import curve_fit\n",
        "# Convert pandas Series to numpy arrays\n",
        "E_values = pl_meas['E'].values\n",
        "lambda_values = pl_meas['lambda'].values\n",
        "count_values = pl_meas['counts'].values\n",
        "#photocurrent2(E, A, alpha_0d, theta, gamma, E1, Delta_mu):\n",
        "ini = [1e41,30,1, 0.21, 1.6]\n",
        "# Fit the model to the data\n",
        "popt, pcov = curve_fit(I_PL, E_values, count_values,bounds=([1e43,30,1, 0, 1.5], [1e45,50,2, 100, 1.7]))\n",
        "popt"
      ],
      "metadata": {
        "colab": {
          "base_uri": "https://localhost:8080/"
        },
        "id": "lEMTBdfC2Jll",
        "outputId": "32caef00-e6fd-4be4-99d0-3be68dfad302"
      },
      "execution_count": 82,
      "outputs": [
        {
          "output_type": "execute_result",
          "data": {
            "text/plain": [
              "array([2.78947413e+43, 4.00000000e+01, 1.50000000e+00, 5.00000000e+01,\n",
              "       1.60000000e+00])"
            ]
          },
          "metadata": {},
          "execution_count": 82
        }
      ]
    },
    {
      "cell_type": "code",
      "source": [
        "fig, ax = plt.subplots()\n",
        "ax.plot(E_values,I_PL(E_values,*list(popt)), c = 'blue')\n",
        "ax_ = ax.twinx()\n",
        "ax_.plot(E_values,count_values, c='red')"
      ],
      "metadata": {
        "colab": {
          "base_uri": "https://localhost:8080/",
          "height": 448
        },
        "id": "ol5ODAf22N_y",
        "outputId": "0dd49e60-7880-47c4-e0d8-74e5ce83a950"
      },
      "execution_count": 62,
      "outputs": [
        {
          "output_type": "execute_result",
          "data": {
            "text/plain": [
              "[<matplotlib.lines.Line2D at 0x7d462f458850>]"
            ]
          },
          "metadata": {},
          "execution_count": 62
        },
        {
          "output_type": "display_data",
          "data": {
            "text/plain": [
              "<Figure size 640x480 with 2 Axes>"
            ],
            "image/png": "[encoded data removed]"
          },
          "metadata": {}
        }
      ]
    },
    {
      "cell_type": "code",
      "source": [],
      "metadata": {
        "id": "eAKNpfib2gWM"
      },
      "execution_count": null,
      "outputs": []
    }
  ],
  "metadata": {
    "colab": {
      "provenance": []
    },
    "kernelspec": {
      "display_name": "Python 3",
      "name": "python3"
    },
    "language_info": {
      "name": "python"
    }
  },
  "nbformat": 4,
  "nbformat_minor": 0
}